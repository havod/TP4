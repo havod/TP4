{
 "cells": [
  {
   "cell_type": "code",
   "execution_count": 26,
   "metadata": {},
   "outputs": [
    {
     "name": "stdout",
     "output_type": "stream",
     "text": [
      "Who was Jim Henson? Jim Henson was a man\n",
      "Who was Albert Einstein? Albert Einstein was a physicist\n",
      "Who is Nicolas Sarkozy?  Nicolas Sarkozy was the first French president of the 5th Republic\n"
     ]
    }
   ],
   "source": [
    "## Test\n",
    "import torch\n",
    "from transformers import GPT2Tokenizer, GPT2LMHeadModel\n",
    "\n",
    "# Load pre-trained model tokenizer (vocabulary)\n",
    "tokenizer = GPT2Tokenizer.from_pretrained('gpt2')\n",
    "\n",
    "# Encode a text inputs\n",
    "text1 = \"Who was Jim Henson ? Jim Henson was a\"\n",
    "text2 = \"Who was Albert Einstein ? Albert Einstein was a\"\n",
    "text3 = \"Who is Nicolas Sarkozy ? Nicolas Sarkozy was the first French president of the 5th  \"\n",
    "textes = [text1, text2, text3]\n",
    "for text in textes:    \n",
    "    indexed_tokens = tokenizer.encode(text)\n",
    "    # Convert indexed tokens in a PyTorch tensor\n",
    "    tokens_tensor = torch.tensor([indexed_tokens])\n",
    "    # Load pre-trained model (weights)\n",
    "    model = GPT2LMHeadModel.from_pretrained('gpt2')\n",
    "\n",
    "    model.eval()\n",
    "    # Predict all tokens\n",
    "    with torch.no_grad():\n",
    "        outputs = model(tokens_tensor)\n",
    "        predictions = outputs[0]\n",
    "\n",
    "    # get the predicted next sub-word (in our case, the word 'man')\n",
    "    predicted_index = torch.argmax(predictions[0, -1, :]).item()\n",
    "    predicted_text = tokenizer.decode(indexed_tokens + [predicted_index])\n",
    "    print(predicted_text)"
   ]
  },
  {
   "cell_type": "code",
   "execution_count": 3,
   "metadata": {
    "scrolled": true
   },
   "outputs": [
    {
     "data": {
      "text/html": [
       "<div>\n",
       "<style scoped>\n",
       "    .dataframe tbody tr th:only-of-type {\n",
       "        vertical-align: middle;\n",
       "    }\n",
       "\n",
       "    .dataframe tbody tr th {\n",
       "        vertical-align: top;\n",
       "    }\n",
       "\n",
       "    .dataframe thead th {\n",
       "        text-align: right;\n",
       "    }\n",
       "</style>\n",
       "<table border=\"1\" class=\"dataframe\">\n",
       "  <thead>\n",
       "    <tr style=\"text-align: right;\">\n",
       "      <th></th>\n",
       "      <th>lineID</th>\n",
       "      <th>characterID</th>\n",
       "      <th>movieID</th>\n",
       "      <th>characterName</th>\n",
       "      <th>Text</th>\n",
       "    </tr>\n",
       "  </thead>\n",
       "  <tbody>\n",
       "    <tr>\n",
       "      <th>0</th>\n",
       "      <td>L1045</td>\n",
       "      <td>u0</td>\n",
       "      <td>m0</td>\n",
       "      <td>BIANCA</td>\n",
       "      <td>They do not!</td>\n",
       "    </tr>\n",
       "    <tr>\n",
       "      <th>1</th>\n",
       "      <td>L1044</td>\n",
       "      <td>u2</td>\n",
       "      <td>m0</td>\n",
       "      <td>CAMERON</td>\n",
       "      <td>They do to!</td>\n",
       "    </tr>\n",
       "    <tr>\n",
       "      <th>2</th>\n",
       "      <td>L985</td>\n",
       "      <td>u0</td>\n",
       "      <td>m0</td>\n",
       "      <td>BIANCA</td>\n",
       "      <td>I hope so.</td>\n",
       "    </tr>\n",
       "    <tr>\n",
       "      <th>3</th>\n",
       "      <td>L984</td>\n",
       "      <td>u2</td>\n",
       "      <td>m0</td>\n",
       "      <td>CAMERON</td>\n",
       "      <td>She okay?</td>\n",
       "    </tr>\n",
       "    <tr>\n",
       "      <th>4</th>\n",
       "      <td>L925</td>\n",
       "      <td>u0</td>\n",
       "      <td>m0</td>\n",
       "      <td>BIANCA</td>\n",
       "      <td>Let's go.</td>\n",
       "    </tr>\n",
       "  </tbody>\n",
       "</table>\n",
       "</div>"
      ],
      "text/plain": [
       "  lineID characterID movieID characterName          Text\n",
       "0  L1045          u0      m0        BIANCA  They do not!\n",
       "1  L1044          u2      m0       CAMERON   They do to!\n",
       "2   L985          u0      m0        BIANCA    I hope so.\n",
       "3   L984          u2      m0       CAMERON     She okay?\n",
       "4   L925          u0      m0        BIANCA     Let's go."
      ]
     },
     "execution_count": 3,
     "metadata": {},
     "output_type": "execute_result"
    }
   ],
   "source": [
    "import pandas as pd\n",
    "\n",
    "df = pd.read_csv('./lines.txt', \n",
    "                 names=['lineID','characterID','movieID','characterName', 'Text'], \n",
    "                 sep=' % ', engine='python')\n",
    "\n",
    "df.head()"
   ]
  },
  {
   "cell_type": "code",
   "execution_count": 34,
   "metadata": {},
   "outputs": [],
   "source": [
    "import random\n",
    "import torch\n",
    "from transformers import BertTokenizer, BertModel, BertForMaskedLM\n",
    "# Load pre-trained model tokenizer (vocabulary)\n",
    "tokenizer = BertTokenizer.from_pretrained('bert-base-uncased')\n",
    "model = BertForMaskedLM.from_pretrained('bert-base-uncased')\n",
    "model.eval()\n",
    "big_results = []\n",
    "for i in range(0,4):\n",
    "    # Encode a text inputs\n",
    "    seed(1)\n",
    "    random.random(), random.random(), random.random()\n",
    "    start_index = randint(0, 499)\n",
    "    textes = df['Text'][start_index : start_index+500]\n",
    "\n",
    "    results = []\n",
    "    for text in textes: \n",
    "\n",
    "        if(text == None):\n",
    "            results.append(True)\n",
    "            continue\n",
    "        text = text.lower()\n",
    "        tokenized_text = tokenizer.tokenize(text) \n",
    "        tokenized_text = tokenizer.build_inputs_with_special_tokens(tokenized_text)\n",
    "\n",
    "        seed(1)\n",
    "        random.random(), random.random(), random.random()\n",
    "        masked_index = randint(1, len(tokenized_text) -1)\n",
    "        initialToken = tokenized_text[masked_index]\n",
    "        tokenized_text[masked_index] = '[MASK]'\n",
    "\n",
    "        indexed_tokens = tokenizer.convert_tokens_to_ids(tokenized_text)\n",
    "        segments_ids = tokenizer.convert_tokens_to_ids(indexed_tokens)\n",
    "\n",
    "        # Convert inputs to PyTorch tensors\n",
    "        tokens_tensor = torch.tensor([indexed_tokens])\n",
    "        segments_tensors = torch.tensor([segments_ids])\n",
    "        # Predict all tokens\n",
    "        with torch.no_grad():\n",
    "            #outputs = model(tokens_tensor, token_type_ids=segments_tensors)\n",
    "            outputs = model(tokens_tensor)\n",
    "            predictions = outputs[0]\n",
    "\n",
    "        # confirm we were able to predict 'henson'\n",
    "        predicted_index = torch.argmax(predictions[0, masked_index]).item()\n",
    "        predicted_token = tokenizer.convert_ids_to_tokens([predicted_index])[0]\n",
    "        if(predicted_token == initialToken):\n",
    "            results.append(True)\n",
    "        else:\n",
    "            results.append(False)\n",
    "            \n",
    "    big_results.append(results)\n"
   ]
  },
  {
   "cell_type": "code",
   "execution_count": 35,
   "metadata": {},
   "outputs": [
    {
     "name": "stdout",
     "output_type": "stream",
     "text": [
      "False    267\n",
      "True     233\n",
      "dtype: int64\n"
     ]
    },
    {
     "data": {
      "text/plain": [
       "<matplotlib.axes._subplots.AxesSubplot at 0x7fd4b541ab70>"
      ]
     },
     "execution_count": 35,
     "metadata": {},
     "output_type": "execute_result"
    },
    {
     "data": {
      "image/png": "[encoded data removed]",
      "text/plain": [
       "<Figure size 1080x360 with 1 Axes>"
      ]
     },
     "metadata": {
      "needs_background": "light"
     },
     "output_type": "display_data"
    }
   ],
   "source": [
    "import matplotlib.pyplot as plt\n",
    "## Graphes\n",
    "#te = pd.Series(results)\n",
    "te = pd.Series(big_results[0])\n",
    "fig=plt.figure(figsize=(15,5))\n",
    "fig.suptitle('taux de prediction', fontsize=16)\n",
    "print(te.value_counts())\n",
    "te.value_counts().plot(kind='bar')"
   ]
  },
  {
   "cell_type": "code",
   "execution_count": 39,
   "metadata": {},
   "outputs": [
    {
     "name": "stdout",
     "output_type": "stream",
     "text": [
      "False    267\n",
      "True     233\n",
      "dtype: int64\n"
     ]
    },
    {
     "data": {
      "text/plain": [
       "<matplotlib.axes._subplots.AxesSubplot at 0x7fd4b60b8a58>"
      ]
     },
     "execution_count": 39,
     "metadata": {},
     "output_type": "execute_result"
    },
    {
     "data": {
      "image/png": "[encoded data removed]",
      "text/plain": [
       "<Figure size 1080x360 with 1 Axes>"
      ]
     },
     "metadata": {
      "needs_background": "light"
     },
     "output_type": "display_data"
    }
   ],
   "source": [
    "te = pd.Series(big_results[1])\n",
    "fig=plt.figure(figsize=(15,5))\n",
    "fig.suptitle('taux de prediction', fontsize=16)\n",
    "print(te.value_counts())\n",
    "te.value_counts().plot(kind='bar')"
   ]
  },
  {
   "cell_type": "code",
   "execution_count": 40,
   "metadata": {},
   "outputs": [
    {
     "name": "stdout",
     "output_type": "stream",
     "text": [
      "False    267\n",
      "True     233\n",
      "dtype: int64\n"
     ]
    },
    {
     "data": {
      "text/plain": [
       "<matplotlib.axes._subplots.AxesSubplot at 0x7fd4a54839b0>"
      ]
     },
     "execution_count": 40,
     "metadata": {},
     "output_type": "execute_result"
    },
    {
     "data": {
      "image/png": "[encoded data removed]",
      "text/plain": [
       "<Figure size 1080x360 with 1 Axes>"
      ]
     },
     "metadata": {
      "needs_background": "light"
     },
     "output_type": "display_data"
    }
   ],
   "source": [
    "te = pd.Series(big_results[2])\n",
    "fig=plt.figure(figsize=(15,5))\n",
    "fig.suptitle('taux de prediction', fontsize=16)\n",
    "print(te.value_counts())\n",
    "te.value_counts().plot(kind='bar')"
   ]
  },
  {
   "cell_type": "code",
   "execution_count": 41,
   "metadata": {},
   "outputs": [
    {
     "name": "stdout",
     "output_type": "stream",
     "text": [
      "False    267\n",
      "True     233\n",
      "dtype: int64\n"
     ]
    },
    {
     "data": {
      "text/plain": [
       "<matplotlib.axes._subplots.AxesSubplot at 0x7fd4d0f68438>"
      ]
     },
     "execution_count": 41,
     "metadata": {},
     "output_type": "execute_result"
    },
    {
     "data": {
      "image/png": "[encoded data removed]",
      "text/plain": [
       "<Figure size 1080x360 with 1 Axes>"
      ]
     },
     "metadata": {
      "needs_background": "light"
     },
     "output_type": "display_data"
    }
   ],
   "source": [
    "te = pd.Series(big_results[3])\n",
    "fig=plt.figure(figsize=(15,5))\n",
    "fig.suptitle('taux de prediction', fontsize=16)\n",
    "print(te.value_counts())\n",
    "te.value_counts().plot(kind='bar')"
   ]
  }
 ],
 "metadata": {
  "colab": {
   "authorship_tag": "ABX9TyP/uBPB5OLWo9EPs98I7Cz0",
   "collapsed_sections": [],
   "name": "TP1_8225",
   "provenance": []
  },
  "kernelspec": {
   "display_name": "Python 3",
   "language": "python",
   "name": "python3"
  },
  "language_info": {
   "codemirror_mode": {
    "name": "ipython",
    "version": 3
   },
   "file_extension": ".py",
   "mimetype": "text/x-python",
   "name": "python",
   "nbconvert_exporter": "python",
   "pygments_lexer": "ipython3",
   "version": "3.7.3"
  }
 },
 "nbformat": 4,
 "nbformat_minor": 1
}
